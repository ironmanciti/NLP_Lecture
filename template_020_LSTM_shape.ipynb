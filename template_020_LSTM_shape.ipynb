{
 "cells": [
  {
   "cell_type": "markdown",
   "id": "f95b3353",
   "metadata": {
    "id": "UFm4zEmdF3HZ"
   },
   "source": [
    "# 020. LSTM/GRU input/output shape\n",
    "\n",
    "- return_sequences = False, True 일 때의 output 비교\n",
    "\n",
    "- return_state = False, True 일 때의 internal state output 비교\n",
    "\n",
    "- Bidirectional LSTM/GRU 의 output 비교"
   ]
  },
  {
   "cell_type": "code",
   "execution_count": null,
   "id": "2417e685",
   "metadata": {},
   "outputs": [],
   "source": []
  },
  {
   "cell_type": "markdown",
   "id": "dafe3308",
   "metadata": {
    "id": "93BtygLbF3Hg"
   },
   "source": [
    "# LSTM\n",
    "\n",
    "## return_sequences\n",
    "\n",
    "- False (default) - last time step 의 output 만 반환\n",
    "- True - 모든 timestep 의 output 을 모두 반환\n",
    "\n",
    "<img src=\"https://i.imgur.com/yqTBCG5.png\" width=600 />"
   ]
  },
  {
   "cell_type": "code",
   "execution_count": null,
   "id": "625401a4",
   "metadata": {},
   "outputs": [],
   "source": [
    "def lstm(return_sequences=False):"
   ]
  },
  {
   "cell_type": "markdown",
   "id": "dba3d28a",
   "metadata": {
    "id": "HOz77oSnF3Hh"
   },
   "source": [
    "## return_state\n",
    "\n",
    "- False (default) - output 만 반환\n",
    "\n",
    "- True - output, last step 의 hidden state, cell state (LSTM 의 경우) 반환"
   ]
  },
  {
   "cell_type": "code",
   "execution_count": null,
   "id": "0f1cc3d0",
   "metadata": {},
   "outputs": [],
   "source": [
    "def lstm(return_state=False):"
   ]
  },
  {
   "cell_type": "markdown",
   "id": "91dc345b",
   "metadata": {
    "id": "Lzhij_1jF3Hj"
   },
   "source": [
    "# Bidirectional LSTM\n",
    "\n",
    "- 순방향, 역방향이 concatenate 된 output 출력  \n",
    "\n",
    "- hidden state, cell state 는 순방향, 역방향 별도 출력"
   ]
  },
  {
   "cell_type": "code",
   "execution_count": null,
   "id": "1cf4f8ba",
   "metadata": {},
   "outputs": [],
   "source": []
  },
  {
   "cell_type": "code",
   "execution_count": null,
   "id": "a8e616c9",
   "metadata": {},
   "outputs": [],
   "source": [
    "def bi_lstm(return_sequences=False, return_state=False):"
   ]
  },
  {
   "cell_type": "code",
   "execution_count": null,
   "id": "265d7025",
   "metadata": {},
   "outputs": [],
   "source": []
  }
 ],
 "metadata": {
  "colab": {
   "provenance": []
  },
  "kernelspec": {
   "display_name": "Python 3",
   "language": "python",
   "name": "python3"
  },
  "language_info": {
   "codemirror_mode": {
    "name": "ipython",
    "version": 3
   },
   "file_extension": ".py",
   "mimetype": "text/x-python",
   "name": "python",
   "nbconvert_exporter": "python",
   "pygments_lexer": "ipython3",
   "version": "3.9.7"
  }
 },
 "nbformat": 4,
 "nbformat_minor": 5
}
